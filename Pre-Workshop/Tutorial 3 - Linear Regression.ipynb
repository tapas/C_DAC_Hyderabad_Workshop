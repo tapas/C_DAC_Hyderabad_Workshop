{
 "cells": [
  {
   "cell_type": "markdown",
   "metadata": {},
   "source": [
    "# Linear Regression\n",
    "\n",
    "We will be using the Production data of Eight Core Industries in India. The data is available at: https://data.gov.in/node/770061/datastore/export/csv.\n",
    "\n",
    "#### Loading libraries"
   ]
  },
  {
   "cell_type": "code",
   "execution_count": 1,
   "metadata": {},
   "outputs": [],
   "source": [
    "import numpy as np\n",
    "import pandas as pd\n",
    "import matplotlib.pyplot as plt\n",
    "%matplotlib inline"
   ]
  },
  {
   "cell_type": "markdown",
   "metadata": {},
   "source": [
    "### Exploratory Analysis\n",
    "\n",
    "Data by itself is not useful. We must have well-defined problems before we seek the data to answer them. Suppose we want to find the trends in electricity production in India and then use that to answer questions about future production.\n",
    "\n",
    "We use the `pandas` library to handle data and do some preliminary analysis."
   ]
  },
  {
   "cell_type": "code",
   "execution_count": 2,
   "metadata": {},
   "outputs": [
    {
     "data": {
      "text/html": [
       "<div>\n",
       "<style scoped>\n",
       "    .dataframe tbody tr th:only-of-type {\n",
       "        vertical-align: middle;\n",
       "    }\n",
       "\n",
       "    .dataframe tbody tr th {\n",
       "        vertical-align: top;\n",
       "    }\n",
       "\n",
       "    .dataframe thead th {\n",
       "        text-align: right;\n",
       "    }\n",
       "</style>\n",
       "<table border=\"1\" class=\"dataframe\">\n",
       "  <thead>\n",
       "    <tr style=\"text-align: right;\">\n",
       "      <th></th>\n",
       "      <th>Months/Years</th>\n",
       "      <th>Production of Coal (in Million Tonnes)</th>\n",
       "      <th>Production of Crude Oil (in Thousand  Tonnes)</th>\n",
       "      <th>Production of Natural Gas (in Million cubic meters)</th>\n",
       "      <th>Production of Petroleum Refinery Products $ (in Thousand Tonnes)</th>\n",
       "      <th>Production of Fertilizers (in Thoousand Tonnes)</th>\n",
       "      <th>Production of Steel (in Thousand Tonnes)</th>\n",
       "      <th>Production of Cement (in Thousand Tonnes)</th>\n",
       "      <th>Electricity Generation (in Million KWH)</th>\n",
       "    </tr>\n",
       "  </thead>\n",
       "  <tbody>\n",
       "    <tr>\n",
       "      <th>0</th>\n",
       "      <td>Apr-04</td>\n",
       "      <td>28.2</td>\n",
       "      <td>2814.0</td>\n",
       "      <td>2596.0</td>\n",
       "      <td>9694.3</td>\n",
       "      <td>2306.7</td>\n",
       "      <td>3283.0</td>\n",
       "      <td>11140.0</td>\n",
       "      <td>48930.0</td>\n",
       "    </tr>\n",
       "    <tr>\n",
       "      <th>1</th>\n",
       "      <td>May-04</td>\n",
       "      <td>27.6</td>\n",
       "      <td>2886.0</td>\n",
       "      <td>2650.0</td>\n",
       "      <td>10233.7</td>\n",
       "      <td>2705.5</td>\n",
       "      <td>3487.0</td>\n",
       "      <td>10950.0</td>\n",
       "      <td>47981.0</td>\n",
       "    </tr>\n",
       "    <tr>\n",
       "      <th>2</th>\n",
       "      <td>Jun-04</td>\n",
       "      <td>27.6</td>\n",
       "      <td>2783.0</td>\n",
       "      <td>2514.0</td>\n",
       "      <td>10002.2</td>\n",
       "      <td>2754.6</td>\n",
       "      <td>3427.0</td>\n",
       "      <td>10300.0</td>\n",
       "      <td>46570.0</td>\n",
       "    </tr>\n",
       "    <tr>\n",
       "      <th>3</th>\n",
       "      <td>Jul-04</td>\n",
       "      <td>28.6</td>\n",
       "      <td>2864.0</td>\n",
       "      <td>2658.0</td>\n",
       "      <td>9745.5</td>\n",
       "      <td>2910.1</td>\n",
       "      <td>3585.0</td>\n",
       "      <td>10768.0</td>\n",
       "      <td>50283.0</td>\n",
       "    </tr>\n",
       "    <tr>\n",
       "      <th>4</th>\n",
       "      <td>Aug-04</td>\n",
       "      <td>26.2</td>\n",
       "      <td>2874.0</td>\n",
       "      <td>2662.0</td>\n",
       "      <td>9796.6</td>\n",
       "      <td>2913.3</td>\n",
       "      <td>3561.0</td>\n",
       "      <td>9355.0</td>\n",
       "      <td>48325.0</td>\n",
       "    </tr>\n",
       "  </tbody>\n",
       "</table>\n",
       "</div>"
      ],
      "text/plain": [
       "  Months/Years   Production of Coal (in Million Tonnes)  \\\n",
       "0       Apr-04                                     28.2   \n",
       "1       May-04                                     27.6   \n",
       "2       Jun-04                                     27.6   \n",
       "3       Jul-04                                     28.6   \n",
       "4       Aug-04                                     26.2   \n",
       "\n",
       "    Production of Crude Oil (in Thousand  Tonnes)  \\\n",
       "0                                          2814.0   \n",
       "1                                          2886.0   \n",
       "2                                          2783.0   \n",
       "3                                          2864.0   \n",
       "4                                          2874.0   \n",
       "\n",
       "    Production of Natural Gas (in Million cubic meters)  \\\n",
       "0                                             2596.0      \n",
       "1                                             2650.0      \n",
       "2                                             2514.0      \n",
       "3                                             2658.0      \n",
       "4                                             2662.0      \n",
       "\n",
       "     Production of Petroleum Refinery Products $ (in Thousand Tonnes)  \\\n",
       "0                                             9694.3                    \n",
       "1                                            10233.7                    \n",
       "2                                            10002.2                    \n",
       "3                                             9745.5                    \n",
       "4                                             9796.6                    \n",
       "\n",
       "     Production of Fertilizers (in Thoousand Tonnes)  \\\n",
       "0                                             2306.7   \n",
       "1                                             2705.5   \n",
       "2                                             2754.6   \n",
       "3                                             2910.1   \n",
       "4                                             2913.3   \n",
       "\n",
       "     Production of Steel (in Thousand Tonnes)  \\\n",
       "0                                      3283.0   \n",
       "1                                      3487.0   \n",
       "2                                      3427.0   \n",
       "3                                      3585.0   \n",
       "4                                      3561.0   \n",
       "\n",
       "     Production of Cement (in Thousand Tonnes)  \\\n",
       "0                                      11140.0   \n",
       "1                                      10950.0   \n",
       "2                                      10300.0   \n",
       "3                                      10768.0   \n",
       "4                                       9355.0   \n",
       "\n",
       "    Electricity Generation (in Million KWH)  \n",
       "0                                   48930.0  \n",
       "1                                   47981.0  \n",
       "2                                   46570.0  \n",
       "3                                   50283.0  \n",
       "4                                   48325.0  "
      ]
     },
     "execution_count": 2,
     "metadata": {},
     "output_type": "execute_result"
    }
   ],
   "source": [
    "import os\n",
    "path = os.path.join(os.getcwd(), 'data/industry_data.csv') # load the data\n",
    "data = pd.read_csv(path, header='infer')\n",
    "data.head()"
   ]
  },
  {
   "cell_type": "code",
   "execution_count": 3,
   "metadata": {},
   "outputs": [
    {
     "data": {
      "text/html": [
       "<div>\n",
       "<style scoped>\n",
       "    .dataframe tbody tr th:only-of-type {\n",
       "        vertical-align: middle;\n",
       "    }\n",
       "\n",
       "    .dataframe tbody tr th {\n",
       "        vertical-align: top;\n",
       "    }\n",
       "\n",
       "    .dataframe thead th {\n",
       "        text-align: right;\n",
       "    }\n",
       "</style>\n",
       "<table border=\"1\" class=\"dataframe\">\n",
       "  <thead>\n",
       "    <tr style=\"text-align: right;\">\n",
       "      <th></th>\n",
       "      <th>Production of Coal (in Million Tonnes)</th>\n",
       "      <th>Production of Crude Oil (in Thousand  Tonnes)</th>\n",
       "      <th>Production of Natural Gas (in Million cubic meters)</th>\n",
       "      <th>Production of Petroleum Refinery Products $ (in Thousand Tonnes)</th>\n",
       "      <th>Production of Fertilizers (in Thoousand Tonnes)</th>\n",
       "      <th>Production of Steel (in Thousand Tonnes)</th>\n",
       "      <th>Production of Cement (in Thousand Tonnes)</th>\n",
       "      <th>Electricity Generation (in Million KWH)</th>\n",
       "    </tr>\n",
       "  </thead>\n",
       "  <tbody>\n",
       "    <tr>\n",
       "      <th>count</th>\n",
       "      <td>146.000000</td>\n",
       "      <td>146.000000</td>\n",
       "      <td>146.000000</td>\n",
       "      <td>146.000000</td>\n",
       "      <td>146.000000</td>\n",
       "      <td>146.000000</td>\n",
       "      <td>146.000000</td>\n",
       "      <td>146.000000</td>\n",
       "    </tr>\n",
       "    <tr>\n",
       "      <th>mean</th>\n",
       "      <td>42.486986</td>\n",
       "      <td>2968.331507</td>\n",
       "      <td>3119.042534</td>\n",
       "      <td>13708.269863</td>\n",
       "      <td>3007.563699</td>\n",
       "      <td>5660.198630</td>\n",
       "      <td>17544.452055</td>\n",
       "      <td>68378.919863</td>\n",
       "    </tr>\n",
       "    <tr>\n",
       "      <th>std</th>\n",
       "      <td>9.766447</td>\n",
       "      <td>200.472960</td>\n",
       "      <td>630.946493</td>\n",
       "      <td>2930.755045</td>\n",
       "      <td>320.001372</td>\n",
       "      <td>1437.311929</td>\n",
       "      <td>4281.116736</td>\n",
       "      <td>14111.686351</td>\n",
       "    </tr>\n",
       "    <tr>\n",
       "      <th>min</th>\n",
       "      <td>26.200000</td>\n",
       "      <td>2411.000000</td>\n",
       "      <td>1966.000000</td>\n",
       "      <td>8946.600000</td>\n",
       "      <td>2161.300000</td>\n",
       "      <td>3283.000000</td>\n",
       "      <td>9355.000000</td>\n",
       "      <td>46015.800000</td>\n",
       "    </tr>\n",
       "    <tr>\n",
       "      <th>25%</th>\n",
       "      <td>35.100000</td>\n",
       "      <td>2815.000000</td>\n",
       "      <td>2697.000000</td>\n",
       "      <td>11677.975000</td>\n",
       "      <td>2801.150000</td>\n",
       "      <td>4508.750000</td>\n",
       "      <td>13935.000000</td>\n",
       "      <td>57131.700000</td>\n",
       "    </tr>\n",
       "    <tr>\n",
       "      <th>50%</th>\n",
       "      <td>40.900000</td>\n",
       "      <td>2926.500000</td>\n",
       "      <td>2826.950000</td>\n",
       "      <td>12662.750000</td>\n",
       "      <td>3067.550000</td>\n",
       "      <td>5495.500000</td>\n",
       "      <td>17695.000000</td>\n",
       "      <td>65561.600000</td>\n",
       "    </tr>\n",
       "    <tr>\n",
       "      <th>75%</th>\n",
       "      <td>48.475000</td>\n",
       "      <td>3157.875000</td>\n",
       "      <td>3572.875000</td>\n",
       "      <td>16837.750000</td>\n",
       "      <td>3227.875000</td>\n",
       "      <td>6939.500000</td>\n",
       "      <td>21074.500000</td>\n",
       "      <td>78593.725000</td>\n",
       "    </tr>\n",
       "    <tr>\n",
       "      <th>max</th>\n",
       "      <td>69.400000</td>\n",
       "      <td>3362.600000</td>\n",
       "      <td>4789.300000</td>\n",
       "      <td>19886.300000</td>\n",
       "      <td>3673.600000</td>\n",
       "      <td>8616.000000</td>\n",
       "      <td>26821.000000</td>\n",
       "      <td>99817.500000</td>\n",
       "    </tr>\n",
       "  </tbody>\n",
       "</table>\n",
       "</div>"
      ],
      "text/plain": [
       "        Production of Coal (in Million Tonnes)  \\\n",
       "count                               146.000000   \n",
       "mean                                 42.486986   \n",
       "std                                   9.766447   \n",
       "min                                  26.200000   \n",
       "25%                                  35.100000   \n",
       "50%                                  40.900000   \n",
       "75%                                  48.475000   \n",
       "max                                  69.400000   \n",
       "\n",
       "        Production of Crude Oil (in Thousand  Tonnes)  \\\n",
       "count                                      146.000000   \n",
       "mean                                      2968.331507   \n",
       "std                                        200.472960   \n",
       "min                                       2411.000000   \n",
       "25%                                       2815.000000   \n",
       "50%                                       2926.500000   \n",
       "75%                                       3157.875000   \n",
       "max                                       3362.600000   \n",
       "\n",
       "        Production of Natural Gas (in Million cubic meters)  \\\n",
       "count                                         146.000000      \n",
       "mean                                         3119.042534      \n",
       "std                                           630.946493      \n",
       "min                                          1966.000000      \n",
       "25%                                          2697.000000      \n",
       "50%                                          2826.950000      \n",
       "75%                                          3572.875000      \n",
       "max                                          4789.300000      \n",
       "\n",
       "         Production of Petroleum Refinery Products $ (in Thousand Tonnes)  \\\n",
       "count                                         146.000000                    \n",
       "mean                                        13708.269863                    \n",
       "std                                          2930.755045                    \n",
       "min                                          8946.600000                    \n",
       "25%                                         11677.975000                    \n",
       "50%                                         12662.750000                    \n",
       "75%                                         16837.750000                    \n",
       "max                                         19886.300000                    \n",
       "\n",
       "         Production of Fertilizers (in Thoousand Tonnes)  \\\n",
       "count                                         146.000000   \n",
       "mean                                         3007.563699   \n",
       "std                                           320.001372   \n",
       "min                                          2161.300000   \n",
       "25%                                          2801.150000   \n",
       "50%                                          3067.550000   \n",
       "75%                                          3227.875000   \n",
       "max                                          3673.600000   \n",
       "\n",
       "         Production of Steel (in Thousand Tonnes)  \\\n",
       "count                                  146.000000   \n",
       "mean                                  5660.198630   \n",
       "std                                   1437.311929   \n",
       "min                                   3283.000000   \n",
       "25%                                   4508.750000   \n",
       "50%                                   5495.500000   \n",
       "75%                                   6939.500000   \n",
       "max                                   8616.000000   \n",
       "\n",
       "         Production of Cement (in Thousand Tonnes)  \\\n",
       "count                                   146.000000   \n",
       "mean                                  17544.452055   \n",
       "std                                    4281.116736   \n",
       "min                                    9355.000000   \n",
       "25%                                   13935.000000   \n",
       "50%                                   17695.000000   \n",
       "75%                                   21074.500000   \n",
       "max                                   26821.000000   \n",
       "\n",
       "        Electricity Generation (in Million KWH)  \n",
       "count                                146.000000  \n",
       "mean                               68378.919863  \n",
       "std                                14111.686351  \n",
       "min                                46015.800000  \n",
       "25%                                57131.700000  \n",
       "50%                                65561.600000  \n",
       "75%                                78593.725000  \n",
       "max                                99817.500000  "
      ]
     },
     "execution_count": 3,
     "metadata": {},
     "output_type": "execute_result"
    }
   ],
   "source": [
    "data.describe()"
   ]
  },
  {
   "cell_type": "code",
   "execution_count": 4,
   "metadata": {
    "scrolled": true
   },
   "outputs": [
    {
     "data": {
      "text/plain": [
       "<AxesSubplot:xlabel=' Production of Natural Gas (in Million cubic meters)', ylabel=' Electricity Generation (in Million KWH)'>"
      ]
     },
     "execution_count": 4,
     "metadata": {},
     "output_type": "execute_result"
    },
    {
     "data": {
      "image/png": "[encoded data removed]",
      "text/plain": [
       "<Figure size 1728x720 with 3 Axes>"
      ]
     },
     "metadata": {
      "needs_background": "light"
     },
     "output_type": "display_data"
    }
   ],
   "source": [
    "fig, ax = plt.subplots(1, 3);\n",
    "data.plot(kind='scatter', x=1, y=8, ax=ax[0], figsize=(24, 10))\n",
    "data.plot(kind='scatter', x=2, y=8, ax=ax[1], figsize=(24, 10))\n",
    "data.plot(kind='scatter', x=3, y=8, ax=ax[2], figsize=(24, 10))\n"
   ]
  },
  {
   "cell_type": "markdown",
   "metadata": {},
   "source": [
    "Our analysis seems to indicate that Coal production is a much better indicator of Electricity production when compared to Natural gas and crude oil production. This also bolsters our intuition that most electricity in India is produced by coal based power plants. Note that correlation **does not** imply causation and as such we should not make such an assumption. Nevertheless, for the purpose of this tutorial, we'll assume Coal production to be directly proportional to Electricity Production."
   ]
  },
  {
   "cell_type": "markdown",
   "metadata": {},
   "source": [
    "## Linear Regression\n",
    "\n",
    "Now, suppose we wish to predict the future electricity production given that we have some estimate of the future coal production. To do so, we find a function $h_{\\theta}$ parameterized by parameters $\\theta$ which gives us the Electricity production of a month given the coal production of that month. We also call $h_{\\theta}$ a linear model since it is linear in the parameter $\\theta$. Our objective is to find $h_{\\theta}$ such that it fits the observed data.\n",
    "\n",
    "Mathematically, we write $h_{\\theta}$ as:\n",
    "$$h_{\\theta} = \\theta_0 + \\theta_1 x_1 + \\theta_2 x_2 + \\cdots + \\theta_n x_n$$\n",
    "where $\\mathbf{\\theta} = ({\\theta_0}, \\theta_1, \\theta_2 \\ldots, \\theta_n)$ are the parameters and $x_1, x_2, \\ldots, x_n$ are the explanatory variables. In our specific case, we have only one explanatory variable (i.e. the monthy Coal Production).\n",
    "\n",
    "The goal is the minimize the difference between the predicted value $h_{\\theta} (x^{(i)})$ for a specific instance $i$ of the values of the set of explanatory variables and the actual value $y^{(i)}$ of the dependant variable for that specific instance.\n",
    "\n",
    "Mathematically, we wish to minimize $J(\\theta) = \\frac{1}{2m} \\sum_{i=1}^{m} (h_{\\theta}(x^{(i)} - y^{(i)})^2$ for all of $m$ **training cases** that we have. The $\\frac{1}{2}$ multiplier of the expression is for mathematical convenience."
   ]
  },
  {
   "cell_type": "markdown",
   "metadata": {},
   "source": [
    "## Gradient Descent\n",
    "\n",
    "In this part, you will fit the linear regression parameters $\\theta$ to our dataset\n",
    "using gradient descent.\n",
    "\n",
    "### Update Equations\n",
    "\n",
    "The objective of linear regression is to minimize the cost function:\n",
    "$$ J(\\theta) = \\frac{1}{2m} \\sum_{i=1}^{m} (h_{\\theta}(x^{(i)} - y^{(i)})^2 $$\n",
    "\n",
    "where the hypothesis $h_{\\theta}(x)$ is given by the linear model $h_{\\theta}(x) = \\theta^Tx = \\theta_0 + \\theta_1x_1$.\n",
    "\n",
    "Recall that the parameters of your model are the $\\theta_j$ values. These are\n",
    "the values you will adjust to minimize cost $J(\\theta)$. One way to do this is to\n",
    "use the batch gradient descent algorithm. In batch gradient descent, each\n",
    "iteration performs the update\n",
    "$$ \\theta_j := \\theta_j − \\alpha \\frac{1}{m} \\sum_{i}^{m}\\nabla_{\\theta_j}(J(\\theta)) $$\n",
    "\n",
    "With each step of gradient descent, your parameters $\\theta_{j}$ come closer to the\n",
    "optimal values that will achieve the lowest cost $J(\\theta)$."
   ]
  },
  {
   "cell_type": "markdown",
   "metadata": {},
   "source": [
    "### Model Fitting\n",
    "\n",
    "To perform linear regression, we'll use `scikit-learn`, a python library that that includes tools for machine learning and data analysis."
   ]
  },
  {
   "cell_type": "code",
   "execution_count": 5,
   "metadata": {},
   "outputs": [],
   "source": [
    "# get relevant data from the pandas data frame\n",
    "coal_data = data.iloc[:, 1]\n",
    "elec_data = data.iloc[:, 8]"
   ]
  },
  {
   "cell_type": "code",
   "execution_count": 6,
   "metadata": {},
   "outputs": [
    {
     "data": {
      "text/plain": [
       "0    28.2\n",
       "1    27.6\n",
       "2    27.6\n",
       "3    28.6\n",
       "4    26.2\n",
       "Name:  Production of Coal (in Million Tonnes), dtype: float64"
      ]
     },
     "execution_count": 6,
     "metadata": {},
     "output_type": "execute_result"
    }
   ],
   "source": [
    "# view the data\n",
    "coal_data.head()"
   ]
  },
  {
   "cell_type": "code",
   "execution_count": 7,
   "metadata": {},
   "outputs": [
    {
     "data": {
      "text/plain": [
       "0    48930.0\n",
       "1    47981.0\n",
       "2    46570.0\n",
       "3    50283.0\n",
       "4    48325.0\n",
       "Name:  Electricity Generation (in Million KWH), dtype: float64"
      ]
     },
     "execution_count": 7,
     "metadata": {},
     "output_type": "execute_result"
    }
   ],
   "source": [
    "elec_data.head()"
   ]
  },
  {
   "cell_type": "markdown",
   "metadata": {},
   "source": [
    "For demonstration purpose, we split the data into test and training data. The test data is the data that is used to evaluate the accuracy of a particular model. Note that the test data is never used for training the model and is used only for evaluation. The performance of a model on test data is an estimate of its performance in the real world."
   ]
  },
  {
   "cell_type": "code",
   "execution_count": 8,
   "metadata": {},
   "outputs": [],
   "source": [
    "# splitting the data\n",
    "rng = np.random.RandomState(0);\n",
    "\n",
    "# Only data values needed for model fitting\n",
    "X = np.matrix(coal_data.values).transpose()\n",
    "y = np.matrix(elec_data.values).transpose()\n",
    "\n",
    "# get split\n",
    "n, p = 1, 0.2\n",
    "s = rng.binomial(n, p, data.shape[0])\n",
    "\n",
    "X_train, y_train = X[s==0], y[s==0]\n",
    "X_test, y_test   = X[s==1], y[s==1]"
   ]
  },
  {
   "cell_type": "code",
   "execution_count": 9,
   "metadata": {},
   "outputs": [
    {
     "name": "stdout",
     "output_type": "stream",
     "text": [
      "Coefficients: \n",
      " [[947.81883853]]\n",
      "Residual sum of squares: 113498986.63\n",
      "Variance score: 0.52\n"
     ]
    }
   ],
   "source": [
    "from sklearn import linear_model\n",
    "# Create linear regression object\n",
    "regr = linear_model.LinearRegression(fit_intercept=True, normalize=True)\n",
    "\n",
    "# Train the model using the training sets\n",
    "regr.fit(X_train, y_train)\n",
    "\n",
    "# The coefficients\n",
    "print('Coefficients: \\n', regr.coef_)\n",
    "# The mean square error\n",
    "print(\"Residual sum of squares: %.2f\" % np.mean(np.power((regr.predict(X_test) - y_test), 2)))\n",
    "# Explained variance score: 1 is perfect prediction\n",
    "print('Variance score: %.2f' % regr.score(X_test, y_test))"
   ]
  },
  {
   "cell_type": "code",
   "execution_count": 10,
   "metadata": {},
   "outputs": [
    {
     "data": {
      "image/png": "[encoded data removed]",
      "text/plain": [
       "<Figure size 432x288 with 1 Axes>"
      ]
     },
     "metadata": {},
     "output_type": "display_data"
    }
   ],
   "source": [
    "plt.plot(X_test, y_test,  '.', color='black')\n",
    "plt.plot(np.squeeze(np.array(X_test)), np.squeeze(regr.predict(X_test)), color='blue',\n",
    "         linewidth=3)\n",
    "\n",
    "plt.xticks(())\n",
    "plt.yticks(())\n",
    "\n",
    "plt.show()"
   ]
  },
  {
   "cell_type": "code",
   "execution_count": null,
   "metadata": {},
   "outputs": [],
   "source": []
  }
 ],
 "metadata": {
  "kernelspec": {
   "display_name": "Python 3",
   "language": "python",
   "name": "python3"
  },
  "language_info": {
   "codemirror_mode": {
    "name": "ipython",
    "version": 3
   },
   "file_extension": ".py",
   "mimetype": "text/x-python",
   "name": "python",
   "nbconvert_exporter": "python",
   "pygments_lexer": "ipython3",
   "version": "3.6.10"
  }
 },
 "nbformat": 4,
 "nbformat_minor": 1
}
